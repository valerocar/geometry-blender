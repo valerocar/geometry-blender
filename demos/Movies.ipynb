{
 "cells": [
  {
   "cell_type": "markdown",
   "metadata": {},
   "source": [
    "# Double torus animation "
   ]
  },
  {
   "cell_type": "markdown",
   "metadata": {},
   "source": [
    "## YouTube video showing result"
   ]
  },
  {
   "cell_type": "code",
   "execution_count": 7,
   "metadata": {},
   "outputs": [
    {
     "data": {
      "text/html": [
       "<iframe width=\"800\" height=\"500\" src=\"https://www.youtube.com/embed/3ueARDFk64U?rel=0&amp;controls=0&amp;showinfo=0\" frameborder=\"0\" allowfullscreen></iframe>"
      ],
      "text/plain": [
       "<IPython.core.display.HTML object>"
      ]
     },
     "execution_count": 7,
     "metadata": {},
     "output_type": "execute_result"
    }
   ],
   "source": [
    "from IPython.display import HTML\n",
    "html = '<iframe width=\"{width}\" height=\"{height}\" src=\"https://www.youtube.com/embed/{video_id}?rel=0&amp;controls=0&amp;showinfo=0\" frameborder=\"0\" allowfullscreen></iframe>'\n",
    "HTML(html.format(video_id='3ueARDFk64U',width=800,height=500))"
   ]
  },
  {
   "cell_type": "markdown",
   "metadata": {},
   "source": [
    "# Imports and utility functions"
   ]
  },
  {
   "cell_type": "code",
   "execution_count": null,
   "metadata": {},
   "outputs": [],
   "source": [
    "import sys\n",
    "sys.path.append(\"..\")\n",
    "from gblend.geometry import *\n",
    "from gblend.levels import *\n",
    "import graphics.d3 as g3d\n",
    "from sympy import pi\n",
    "import numpy as np\n",
    "import plotly.graph_objects as go\n",
    "import os\n",
    "import shutil\n",
    "\n",
    "camera_x = 1.0\n",
    "camera_y = -1.5\n",
    "camera_z = 2.0\n",
    "\n",
    "hsd = 4 #\n",
    "box = [-hsd,hsd,-hsd,hsd,-hsd,hsd]\n",
    "rs = 120\n",
    "res = [rs,rs,rs]\n",
    "\n",
    "def cos_interp(a,b,cnt):\n",
    "    ts = np.linspace(0,1,cnt)\n",
    "    return a+(b-a)*(1-np.cos(np.pi*ts))/2.0\n",
    "\n",
    "def interp(vs, cnt):\n",
    "    fp = []\n",
    "    for i in range(len(vs)-1):\n",
    "        fp.append(cos_interp(vs[i],vs[i+1],cnt))\n",
    "    fp = np.array(fp).flatten()\n",
    "    x = np.linspace(1,cnt,cnt)\n",
    "    xp = np.linspace(1,cnt,len(fp))\n",
    "    return np.interp(x,xp,fp)\n",
    "    \n",
    "\n",
    "def create_movie_folder(movie_name, base_path = os.getenv(\"HOME\") ):\n",
    "    path = base_path+'/'+movie_name\n",
    "    if os.path.exists(path):\n",
    "        print(path + \" exists\")\n",
    "        ans = 'y' #input(\"remove (y/n)\") \n",
    "        if ans == 'y': \n",
    "            print(\"removing \"+ path)\n",
    "            try:\n",
    "                shutil.rmtree(path)\n",
    "            except OSError:\n",
    "                print(\"Error: %s : %s\" % (dir_path, e.strerror))\n",
    "            else:\n",
    "                print(path+\" succesfully removed\")\n",
    "        \n",
    "    try:\n",
    "        os.mkdir(path)\n",
    "    except OSError:\n",
    "        print (\"Creation of the directory %s failed\" % path)\n",
    "    else:\n",
    "        print (\"Successfully created the directory %s \" % path)\n",
    "        return path\n",
    "    return path\n",
    "\n",
    "def save_geometry(obj, frame_no, i, camera=None):\n",
    "    if camera is None:\n",
    "        camera = dict(up=dict(x=0, y=0, z=1),\n",
    "                      center=dict(x=0, y=0, z=0),\n",
    "                      eye=dict(x=camera_x, y=camera_y, z=camera_z))\n",
    "    ps, ts, ns, vals = geometry_level(obj,box,res)\n",
    "    fig = g3d.get_figure(g3d.mesh3d(ps, ts), width=800, height=600,camera=camera,layout_no=0)\n",
    "    frame_name = 'mov'+'{:>04}'.format(str(frame_no))+ext\n",
    "    file_path = movie_path+'/'+frame_name\n",
    "    fig.write_image(file_path)"
   ]
  },
  {
   "cell_type": "markdown",
   "metadata": {},
   "source": [
    "# Create folder to store animation frames"
   ]
  },
  {
   "cell_type": "code",
   "execution_count": 2,
   "metadata": {},
   "outputs": [
    {
     "name": "stdout",
     "output_type": "stream",
     "text": [
      "/home/valeroc/DoubleTorus exists\n",
      "removing /home/valeroc/DoubleTorus\n",
      "/home/valeroc/DoubleTorus succesfully removed\n",
      "Successfully created the directory /home/valeroc/DoubleTorus \n"
     ]
    }
   ],
   "source": [
    "movie_name = 'DoubleTorus'\n",
    "movie_path = create_movie_folder(movie_name)\n",
    "ext = '.png'"
   ]
  },
  {
   "cell_type": "markdown",
   "metadata": {},
   "source": [
    "# Rendering animation frames as .png files"
   ]
  },
  {
   "cell_type": "code",
   "execution_count": 3,
   "metadata": {},
   "outputs": [
    {
     "name": "stdout",
     "output_type": "stream",
     "text": [
      "-------------------------------------------------\n",
      "(1 of 6)\n",
      "Double Torus Base: Rendering 100 frames\n",
      "-------------------------------------------------\n",
      "(2 of 6)\n",
      "Making Holes: Rendering 100 frames\n",
      "-------------------------------------------------\n",
      "(3 of 6)\n",
      "Twist Handle: Rendering 100 frames\n",
      "-------------------------------------------------\n",
      "(4 of 6)\n",
      "350 View: Rendering 200 frames\n",
      "-------------------------------------------------\n",
      "(5 of 6)\n",
      "Camera Adjust: Rendering 100 frames\n",
      "-------------------------------------------------\n",
      "(6 of 6)\n",
      "Quadratic Displacement: Rendering 150 frames\n",
      "Progress: 100%\r"
     ]
    }
   ],
   "source": [
    "b1_0 = Ball3D()\n",
    "b2_0 = Ball3D()\n",
    "c1_0 = Cylinder3D()\n",
    "c2_0 = Cylinder3D()\n",
    "\n",
    "\n",
    "fns = [\"Double Torus Base\", \"Making Holes\", \"Twist Handle\", \"350 View\", \"Camera Adjust\", \"Quadratic Displacement\"]\n",
    "fcs = np.array([100,100,100,200,100,150]) # Frames count per step\n",
    "fcc = [0] # Cummulative framse count\n",
    "fcc.extend(np.cumsum(fcs)[0:len(fcs)-1])\n",
    "\n",
    "def header(step):\n",
    "    print(\"-------------------------------------------------\")\n",
    "    print(\"(\"+str(step+1)+\" of \" + str(len(fns))+\")\")\n",
    "    print(fns[step]+\": Rendering \"+ str(fcs[step])+ \" frames\")\n",
    "    \n",
    "    \n",
    "def progress(i,total):\n",
    "    percent = str(int(float(i/(total-1))*100))+'%'\n",
    "    s = \"Progress: \" + percent + '\\r'\n",
    "    print(s,end='')\n",
    "    \n",
    "def step0():\n",
    "    global b1,b2\n",
    "    step = 0\n",
    "    header(step)\n",
    "    fc = fcs[step]\n",
    "    sc = interp([1.0,2.0],fc) # scales\n",
    "    tx = interp([2.0,1.8],fc) # translation in x-direction\n",
    "    for i in range(0,fcs[step]):\n",
    "        b1 = b1_0.scaled(sc[i],sc[i],1).translated(-tx[i],0,0)\n",
    "        b2 = b2_0.scaled(sc[i],sc[i],1).translated(tx[i],0,0)\n",
    "        fn = fcc[step]+i\n",
    "        save_geometry(b1 | b2,fn,i)\n",
    "        progress(i,fc)\n",
    "        \n",
    "        \n",
    "    \n",
    "def step1():\n",
    "    global c1, c2\n",
    "    step = 1\n",
    "    header(step)\n",
    "    fc = fcs[step]\n",
    "    sc = interp([0.2,0.5],fc) \n",
    "    for i in range(0,fc):\n",
    "        c1 = c1_0.scaled(sc[i],sc[i],1).translated(-1.8,0,0)\n",
    "        c2 = c1_0.scaled(sc[i],sc[i],1).translated(1.8,0,0)\n",
    "        obj = (b1-c1) | (b2-c2)\n",
    "        fn = fcc[step]+i\n",
    "        save_geometry(obj,fn,i)\n",
    "        progress(i,fc)\n",
    "    \n",
    "def step2():\n",
    "    global b2r, c2r, obj\n",
    "    step = 2\n",
    "    header(step)\n",
    "    fc = fcs[step]\n",
    "    ts = interp([0.0,-np.pi/4],fc) \n",
    "    for i in range(0,fc):\n",
    "        b2r = b2.rotated(1,0,0,ts[i])\n",
    "        c2r = c2.rotated(1,0,0,ts[i])\n",
    "        obj = (b1-c1) | (b2r-c2r)\n",
    "        fn = fcc[step]+i\n",
    "        save_geometry(obj,fn,i)\n",
    "        progress(i,fc)\n",
    "        \n",
    "def step3():\n",
    "    step = 3\n",
    "    header(step)\n",
    "    fc = fcs[step]\n",
    "    ts = interp([0.0,2*np.pi],fc) \n",
    "    for i in range(0,fc):\n",
    "        th =  ts[i]\n",
    "        camera_xn = camera_x*np.cos(th)-camera_y*np.sin(th)\n",
    "        camera_yn = camera_x*np.sin(th)+camera_y*np.cos(th)\n",
    "        camera = dict(up=dict(x=0, y=0, z=1),\n",
    "                      center=dict(x=0, y=0, z=0),\n",
    "                      eye=dict(x=camera_xn, y=camera_yn, z=camera_z))\n",
    "        \n",
    "        fn = fcc[step]+i\n",
    "        save_geometry(obj,fn,i, camera=camera)\n",
    "        progress(i,fc)\n",
    "\n",
    "def step4():\n",
    "    global camera_y, camera_z\n",
    "    step = 4\n",
    "    header(step)\n",
    "    fc = fcs[step]\n",
    "    ts = interp([0,np.pi-np.arctan2(camera_z,camera_y)],fc)\n",
    "    for i in range(0,fc):\n",
    "        th =  ts[i]\n",
    "        camera_yn = camera_y*np.cos(th)-camera_z*np.sin(th)\n",
    "        camera_zn = camera_y*np.sin(th)+camera_z*np.cos(th)\n",
    "        camera = dict(up=dict(x=0, y=0, z=1),\n",
    "                      center=dict(x=0, y=0, z=0),\n",
    "                      eye=dict(x=camera_x, y=camera_yn, z=camera_zn))\n",
    "        fn = fcc[step]+i\n",
    "        save_geometry(obj,fn,i, camera=camera)\n",
    "        progress(i,fc)\n",
    "    camera_y = camera_yn\n",
    "    camera_z = camera_zn\n",
    "        \n",
    "        \n",
    "def step5():\n",
    "    step = 5\n",
    "    header(step)\n",
    "    fc = fcs[step]\n",
    "    ts = interp([0,.15],fc)\n",
    "    for i in range(0,fc):\n",
    "        fn = fcc[step]+i\n",
    "        save_geometry(obj.displaced(ts[i]*(x**2-y**2)),fn,i)\n",
    "        progress(i,fc)\n",
    "\n",
    "#\n",
    "# Rendering\n",
    "#\n",
    "steps = [step0,step1,step2,step3,step4,step5]\n",
    "def do_steps(step_ids):\n",
    "    for i in step_ids:\n",
    "        steps[i]()\n",
    "        \n",
    "do_steps([0,1,2,3,4,5])"
   ]
  }
 ],
 "metadata": {
  "kernelspec": {
   "display_name": "Geometry",
   "language": "python",
   "name": "geometry"
  },
  "language_info": {
   "codemirror_mode": {
    "name": "ipython",
    "version": 3
   },
   "file_extension": ".py",
   "mimetype": "text/x-python",
   "name": "python",
   "nbconvert_exporter": "python",
   "pygments_lexer": "ipython3",
   "version": "3.8.5"
  }
 },
 "nbformat": 4,
 "nbformat_minor": 4
}
