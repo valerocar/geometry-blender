{
 "cells": [
  {
   "cell_type": "code",
   "execution_count": null,
   "metadata": {},
   "outputs": [],
   "source": [
    "import sys\n",
    "sys.path.append(\"..\")\n",
    "from gblend.geometry import *\n",
    "from gblend.levels import *\n",
    "from gblend.variables import x,y,z,rxy\n",
    "\n",
    "import graphics.d3 as g3d\n",
    "from sympy import pi"
   ]
  },
  {
   "cell_type": "code",
   "execution_count": null,
   "metadata": {},
   "outputs": [],
   "source": [
    "t1 = RevolutionSurface3D(1/4-z**2-(rxy-2)**2)\n",
    "t1.displace((x**2)/5+(y**2)/5)\n",
    "t2 = RevolutionSurface3D(1/4-z**2-(rxy-2)**2)\n",
    "t1.translate(-1,0,0)\n",
    "t2.translate(1,0,0)\n",
    "\n",
    "\n",
    "obj = t1 | t2\n",
    "res = 120 # resolution for extracting mesh\n",
    "sz = 5\n",
    "\n",
    "ps, ts, ns, vals = geometry_level(obj,[-sz,sz,-sz,sz,-sz,sz], [res,res,res])\n",
    "mesh = g3d.mesh3d(ps, ts)\n",
    "seat_fig = g3d.get_figure([mesh])\n",
    "seat_fig"
   ]
  },
  {
   "cell_type": "code",
   "execution_count": null,
   "metadata": {},
   "outputs": [],
   "source": [
    "b1 = Ball3D(k=1/3)\n",
    "b1.scale(1,1,.5)\n",
    "b1.displace((x**2+y**2)/2)\n",
    "\n",
    "b2 = Ball3D(k=1/3)\n",
    "b2.scale(.6,.6,.6)\n",
    "b2.translate(0,0,.5)\n",
    "\n",
    "t1 = Torus3D(.3,2,k=3/4)\n",
    "t1.rotate(1,0,0,pi/2)\n",
    "\n",
    "obj = (b1-b2) | t1\n",
    "res = 150 # resolution for extracting mesh\n",
    "sz = 4\n",
    "\n",
    "ps, ts, ns, vals = geometry_level(obj,[-sz,sz,-sz,sz,-sz,sz], [res,res,res])\n",
    "mesh = g3d.mesh3d(ps, ts)\n",
    "craddle_fig = g3d.get_figure([mesh])\n",
    "craddle_fig"
   ]
  },
  {
   "cell_type": "code",
   "execution_count": null,
   "metadata": {},
   "outputs": [],
   "source": [
    "#seat_fig.write_image(\"seat.png\")\n",
    "#craddle_fig.write_image(\"craddle.png\")"
   ]
  },
  {
   "cell_type": "code",
   "execution_count": null,
   "metadata": {},
   "outputs": [],
   "source": [
    "import math"
   ]
  },
  {
   "cell_type": "code",
   "execution_count": 8,
   "metadata": {},
   "outputs": [
    {
     "name": "stdout",
     "output_type": "stream",
     "text": [
      "Help on module gblend.variables in gblend:\n",
      "\n",
      "NAME\n",
      "    gblend.variables - Some useful variables to define functions in 3-dimensional space\n",
      "\n",
      "DATA\n",
      "    k = k\n",
      "    rxy = rxy\n",
      "    x = x\n",
      "    y = y\n",
      "    z = z\n",
      "\n",
      "FILE\n",
      "    /Users/valeroc/Dropbox/MyProjects/geometry-blender/gblend/variables.py\n",
      "\n",
      "\n"
     ]
    }
   ],
   "source": [
    "import sys\n",
    "sys.path.append(\"..\")\n",
    "import gblend\n",
    "import gblend.geometry\n",
    "import gblend.levels\n",
    "import gblend.variables\n",
    "help(gblend.variables)"
   ]
  },
  {
   "cell_type": "code",
   "execution_count": null,
   "metadata": {},
   "outputs": [],
   "source": []
  },
  {
   "cell_type": "code",
   "execution_count": null,
   "metadata": {},
   "outputs": [],
   "source": []
  }
 ],
 "metadata": {
  "kernelspec": {
   "display_name": "Geometry",
   "language": "python",
   "name": "geometry"
  },
  "language_info": {
   "codemirror_mode": {
    "name": "ipython",
    "version": 3
   },
   "file_extension": ".py",
   "mimetype": "text/x-python",
   "name": "python",
   "nbconvert_exporter": "python",
   "pygments_lexer": "ipython3",
   "version": "3.8.5"
  }
 },
 "nbformat": 4,
 "nbformat_minor": 4
}
